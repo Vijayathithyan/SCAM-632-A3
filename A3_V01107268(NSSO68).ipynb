{
 "cells": [
  {
   "cell_type": "code",
   "execution_count": 11,
   "id": "72203ec7",
   "metadata": {},
   "outputs": [],
   "source": [
    "import os\n",
    "import pandas as pd\n",
    "from sklearn.model_selection import train_test_split\n",
    "from sklearn.tree import DecisionTreeClassifier\n",
    "from sklearn.metrics import confusion_matrix, accuracy_score\n",
    "import statsmodels.api as sm\n",
    "import numpy as np\n",
    "import matplotlib.pyplot as plt\n",
    "from scipy.stats import norm\n",
    "from scipy.optimize import minimize"
   ]
  },
  {
   "cell_type": "code",
   "execution_count": 4,
   "id": "68fc2937",
   "metadata": {},
   "outputs": [],
   "source": [
    "os.chdir('D:\\\\MDA\\\\Course\\\\Boot Camp\\\\SCMA 632\\\\Assignments\\\\A3')"
   ]
  },
  {
   "cell_type": "code",
   "execution_count": 5,
   "id": "6a3ab0a9",
   "metadata": {},
   "outputs": [
    {
     "name": "stderr",
     "output_type": "stream",
     "text": [
      "C:\\Users\\vijay\\AppData\\Local\\Temp\\ipykernel_32744\\1800478961.py:1: DtypeWarning: Columns (1) have mixed types. Specify dtype option on import or set low_memory=False.\n",
      "  nss = pd.read_csv(\"NSSO68.csv\")\n"
     ]
    }
   ],
   "source": [
    "nss = pd.read_csv(\"NSSO68.csv\")"
   ]
  },
  {
   "cell_type": "code",
   "execution_count": 6,
   "id": "1b3f6218",
   "metadata": {},
   "outputs": [
    {
     "data": {
      "text/plain": [
       "(101662, 384)"
      ]
     },
     "execution_count": 6,
     "metadata": {},
     "output_type": "execute_result"
    }
   ],
   "source": [
    "nss.shape"
   ]
  },
  {
   "cell_type": "code",
   "execution_count": 17,
   "id": "286846c1",
   "metadata": {
    "scrolled": true
   },
   "outputs": [
    {
     "name": "stderr",
     "output_type": "stream",
     "text": [
      "C:\\Users\\vijay\\AppData\\Local\\Temp\\ipykernel_32744\\2090876308.py:5: DtypeWarning: Columns (1) have mixed types. Specify dtype option on import or set low_memory=False.\n",
      "  data = pd.read_csv(\"NSSO68.csv\")\n"
     ]
    },
    {
     "name": "stdout",
     "output_type": "stream",
     "text": [
      "Religion    0\n",
      "emftt_q     0\n",
      "emftt_v     0\n",
      "dtype: int64\n",
      "Religion       0\n",
      "eggsno_q       0\n",
      "fishprawn_q    0\n",
      "goatmeat_q     0\n",
      "beef_q         0\n",
      "pork_q         0\n",
      "chicken_q      0\n",
      "othrbirds_q    0\n",
      "dtype: int64\n"
     ]
    }
   ],
   "source": [
    "# Set working directory\n",
    "os.chdir('D:\\\\MDA\\\\Course\\\\Boot Camp\\\\SCMA 632\\\\Assignments\\\\A3')\n",
    "\n",
    "# Load dataset\n",
    "data = pd.read_csv(\"NSSO68.csv\")\n",
    "\n",
    "# Subset data to state assigned\n",
    "bhr = data[data['state_1'] == 'Bhr'][['Religion', 'emftt_q', 'emftt_v']]\n",
    "bhrnew = data[data['state_1'] == 'Bhr'][['Religion','eggsno_q','fishprawn_q','goatmeat_q','beef_q','pork_q','chicken_q','othrbirds_q']]\n",
    "\n",
    "# Check for missing values\n",
    "print(bhr.isnull().sum())\n",
    "print(bhrnew.isnull().sum())\n"
   ]
  },
  {
   "cell_type": "code",
   "execution_count": 18,
   "id": "267cdc71",
   "metadata": {},
   "outputs": [
    {
     "data": {
      "text/plain": [
       "((4582, 3), (4582, 8))"
      ]
     },
     "execution_count": 18,
     "metadata": {},
     "output_type": "execute_result"
    }
   ],
   "source": [
    "bhr.shape, bhrnew.shape"
   ]
  },
  {
   "cell_type": "code",
   "execution_count": 19,
   "id": "30ec5367",
   "metadata": {},
   "outputs": [
    {
     "name": "stdout",
     "output_type": "stream",
     "text": [
      "Religion\n",
      "Hinduism        3944\n",
      "Islam            627\n",
      "Christianity       8\n",
      "Others             2\n",
      "Jainism            1\n",
      "Name: count, dtype: int64\n"
     ]
    }
   ],
   "source": [
    "religion_mapping = {1:'Hinduism', 2:'Islam', 3:'Christianity',5:'Jainism',9:'Others'}\n",
    "bhrnew['Religion'] = bhrnew['Religion'].replace(religion_mapping)\n",
    "print(bhrnew['Religion'].value_counts())"
   ]
  },
  {
   "cell_type": "code",
   "execution_count": 13,
   "id": "57487976",
   "metadata": {},
   "outputs": [
    {
     "data": {
      "image/png": "[encoded data removed]",
      "text/plain": [
       "<Figure size 640x480 with 1 Axes>"
      ]
     },
     "metadata": {},
     "output_type": "display_data"
    }
   ],
   "source": [
    "religion_counts = pd.Series([3944, 627, 8, 2, 1], index=['Hinduism', 'Islam', 'Christianity', 'Others', 'Jainism'])\n",
    "plt.bar(religion_counts.index, religion_counts.values, color='skyblue')  # Adjust color as desired\n",
    "plt.xlabel(\"Religion\")\n",
    "plt.ylabel(\"Count\")\n",
    "plt.title(\"Religion Distribution\")\n",
    "plt.xticks(rotation=45)\n",
    "plt.show()"
   ]
  },
  {
   "cell_type": "code",
   "execution_count": 14,
   "id": "3435be6d",
   "metadata": {
    "collapsed": true
   },
   "outputs": [
    {
     "data": {
      "text/plain": [
       "Religion     object\n",
       "emftt_q     float64\n",
       "emftt_v     float64\n",
       "dtype: object"
      ]
     },
     "execution_count": 14,
     "metadata": {},
     "output_type": "execute_result"
    }
   ],
   "source": [
    "bhr.dtypes"
   ]
  },
  {
   "cell_type": "code",
   "execution_count": 20,
   "id": "d902e61f",
   "metadata": {},
   "outputs": [],
   "source": [
    "columns = ['eggsno_q','fishprawn_q','goatmeat_q','beef_q','pork_q','chicken_q','othrbirds_q']\n",
    "data = bhrnew[columns].copy()"
   ]
  },
  {
   "cell_type": "code",
   "execution_count": 21,
   "id": "8c007e54",
   "metadata": {},
   "outputs": [
    {
     "data": {
      "text/plain": [
       "eggsno_q       float64\n",
       "fishprawn_q    float64\n",
       "goatmeat_q     float64\n",
       "beef_q         float64\n",
       "pork_q         float64\n",
       "chicken_q      float64\n",
       "othrbirds_q    float64\n",
       "dtype: object"
      ]
     },
     "execution_count": 21,
     "metadata": {},
     "output_type": "execute_result"
    }
   ],
   "source": [
    "data.dtypes"
   ]
  },
  {
   "cell_type": "markdown",
   "id": "56f67c69",
   "metadata": {},
   "source": [
    "### Probit Regression"
   ]
  },
  {
   "cell_type": "code",
   "execution_count": 22,
   "id": "419f8c5e",
   "metadata": {},
   "outputs": [],
   "source": [
    "data['target'] = np.where(data['eggsno_q'] > 0,1,0)\n",
    "x = data.drop(['eggsno_q'], axis = 1)\n",
    "x = sm.add_constant(x)\n",
    "y = data['target']"
   ]
  },
  {
   "cell_type": "code",
   "execution_count": 23,
   "id": "dbced722",
   "metadata": {
    "scrolled": false
   },
   "outputs": [
    {
     "name": "stdout",
     "output_type": "stream",
     "text": [
      "Warning: Maximum number of iterations has been exceeded.\n",
      "         Current function value: 0.000000\n",
      "         Iterations: 35\n",
      "                          Probit Regression Results                           \n",
      "==============================================================================\n",
      "Dep. Variable:                 target   No. Observations:                 4582\n",
      "Model:                         Probit   Df Residuals:                     4574\n",
      "Method:                           MLE   Df Model:                            7\n",
      "Date:                Mon, 01 Jul 2024   Pseudo R-squ.:                   1.000\n",
      "Time:                        12:05:25   Log-Likelihood:            -7.4913e-12\n",
      "converged:                      False   LL-Null:                       -2326.5\n",
      "Covariance Type:            nonrobust   LLR p-value:                     0.000\n",
      "===============================================================================\n",
      "                  coef    std err          z      P>|z|      [0.025      0.975]\n",
      "-------------------------------------------------------------------------------\n",
      "const          -7.8291   5.91e+04     -0.000      1.000   -1.16e+05    1.16e+05\n",
      "fishprawn_q    -0.1037   2.94e+05  -3.53e-07      1.000   -5.76e+05    5.76e+05\n",
      "goatmeat_q     -0.0631   4.76e+05  -1.33e-07      1.000   -9.33e+05    9.33e+05\n",
      "beef_q          0.0228   6.83e+05   3.34e-08      1.000   -1.34e+06    1.34e+06\n",
      "pork_q          0.0062   1.15e+06   5.38e-09      1.000   -2.25e+06    2.25e+06\n",
      "chicken_q      -0.1178   3.48e+05  -3.39e-07      1.000   -6.81e+05    6.81e+05\n",
      "othrbirds_q    -0.0075   2.27e+06  -3.31e-09      1.000   -4.45e+06    4.45e+06\n",
      "target         16.3537    1.1e+06   1.49e-05      1.000   -2.15e+06    2.15e+06\n",
      "===============================================================================\n",
      "\n",
      "Complete Separation: The results show that there iscomplete separation or perfect prediction.\n",
      "In this case the Maximum Likelihood Estimator does not exist and the parameters\n",
      "are not identified.\n"
     ]
    },
    {
     "name": "stderr",
     "output_type": "stream",
     "text": [
      "C:\\Users\\vijay\\anaconda3\\Lib\\site-packages\\statsmodels\\discrete\\discrete_model.py:227: PerfectSeparationWarning: Perfect separation or prediction detected, parameter may not be identified\n",
      "  warnings.warn(msg, category=PerfectSeparationWarning)\n",
      "C:\\Users\\vijay\\anaconda3\\Lib\\site-packages\\statsmodels\\discrete\\discrete_model.py:227: PerfectSeparationWarning: Perfect separation or prediction detected, parameter may not be identified\n",
      "  warnings.warn(msg, category=PerfectSeparationWarning)\n",
      "C:\\Users\\vijay\\anaconda3\\Lib\\site-packages\\statsmodels\\discrete\\discrete_model.py:227: PerfectSeparationWarning: Perfect separation or prediction detected, parameter may not be identified\n",
      "  warnings.warn(msg, category=PerfectSeparationWarning)\n",
      "C:\\Users\\vijay\\anaconda3\\Lib\\site-packages\\statsmodels\\discrete\\discrete_model.py:227: PerfectSeparationWarning: Perfect separation or prediction detected, parameter may not be identified\n",
      "  warnings.warn(msg, category=PerfectSeparationWarning)\n",
      "C:\\Users\\vijay\\anaconda3\\Lib\\site-packages\\statsmodels\\discrete\\discrete_model.py:227: PerfectSeparationWarning: Perfect separation or prediction detected, parameter may not be identified\n",
      "  warnings.warn(msg, category=PerfectSeparationWarning)\n",
      "C:\\Users\\vijay\\anaconda3\\Lib\\site-packages\\statsmodels\\discrete\\discrete_model.py:227: PerfectSeparationWarning: Perfect separation or prediction detected, parameter may not be identified\n",
      "  warnings.warn(msg, category=PerfectSeparationWarning)\n",
      "C:\\Users\\vijay\\anaconda3\\Lib\\site-packages\\statsmodels\\discrete\\discrete_model.py:227: PerfectSeparationWarning: Perfect separation or prediction detected, parameter may not be identified\n",
      "  warnings.warn(msg, category=PerfectSeparationWarning)\n",
      "C:\\Users\\vijay\\anaconda3\\Lib\\site-packages\\statsmodels\\discrete\\discrete_model.py:227: PerfectSeparationWarning: Perfect separation or prediction detected, parameter may not be identified\n",
      "  warnings.warn(msg, category=PerfectSeparationWarning)\n",
      "C:\\Users\\vijay\\anaconda3\\Lib\\site-packages\\statsmodels\\discrete\\discrete_model.py:227: PerfectSeparationWarning: Perfect separation or prediction detected, parameter may not be identified\n",
      "  warnings.warn(msg, category=PerfectSeparationWarning)\n",
      "C:\\Users\\vijay\\anaconda3\\Lib\\site-packages\\statsmodels\\discrete\\discrete_model.py:227: PerfectSeparationWarning: Perfect separation or prediction detected, parameter may not be identified\n",
      "  warnings.warn(msg, category=PerfectSeparationWarning)\n",
      "C:\\Users\\vijay\\anaconda3\\Lib\\site-packages\\statsmodels\\discrete\\discrete_model.py:227: PerfectSeparationWarning: Perfect separation or prediction detected, parameter may not be identified\n",
      "  warnings.warn(msg, category=PerfectSeparationWarning)\n",
      "C:\\Users\\vijay\\anaconda3\\Lib\\site-packages\\statsmodels\\discrete\\discrete_model.py:227: PerfectSeparationWarning: Perfect separation or prediction detected, parameter may not be identified\n",
      "  warnings.warn(msg, category=PerfectSeparationWarning)\n",
      "C:\\Users\\vijay\\anaconda3\\Lib\\site-packages\\statsmodels\\discrete\\discrete_model.py:227: PerfectSeparationWarning: Perfect separation or prediction detected, parameter may not be identified\n",
      "  warnings.warn(msg, category=PerfectSeparationWarning)\n",
      "C:\\Users\\vijay\\anaconda3\\Lib\\site-packages\\statsmodels\\discrete\\discrete_model.py:227: PerfectSeparationWarning: Perfect separation or prediction detected, parameter may not be identified\n",
      "  warnings.warn(msg, category=PerfectSeparationWarning)\n",
      "C:\\Users\\vijay\\anaconda3\\Lib\\site-packages\\statsmodels\\discrete\\discrete_model.py:227: PerfectSeparationWarning: Perfect separation or prediction detected, parameter may not be identified\n",
      "  warnings.warn(msg, category=PerfectSeparationWarning)\n",
      "C:\\Users\\vijay\\anaconda3\\Lib\\site-packages\\statsmodels\\discrete\\discrete_model.py:227: PerfectSeparationWarning: Perfect separation or prediction detected, parameter may not be identified\n",
      "  warnings.warn(msg, category=PerfectSeparationWarning)\n",
      "C:\\Users\\vijay\\anaconda3\\Lib\\site-packages\\statsmodels\\discrete\\discrete_model.py:227: PerfectSeparationWarning: Perfect separation or prediction detected, parameter may not be identified\n",
      "  warnings.warn(msg, category=PerfectSeparationWarning)\n",
      "C:\\Users\\vijay\\anaconda3\\Lib\\site-packages\\statsmodels\\discrete\\discrete_model.py:227: PerfectSeparationWarning: Perfect separation or prediction detected, parameter may not be identified\n",
      "  warnings.warn(msg, category=PerfectSeparationWarning)\n",
      "C:\\Users\\vijay\\anaconda3\\Lib\\site-packages\\statsmodels\\discrete\\discrete_model.py:227: PerfectSeparationWarning: Perfect separation or prediction detected, parameter may not be identified\n",
      "  warnings.warn(msg, category=PerfectSeparationWarning)\n",
      "C:\\Users\\vijay\\anaconda3\\Lib\\site-packages\\statsmodels\\discrete\\discrete_model.py:227: PerfectSeparationWarning: Perfect separation or prediction detected, parameter may not be identified\n",
      "  warnings.warn(msg, category=PerfectSeparationWarning)\n",
      "C:\\Users\\vijay\\anaconda3\\Lib\\site-packages\\statsmodels\\base\\model.py:607: ConvergenceWarning: Maximum Likelihood optimization failed to converge. Check mle_retvals\n",
      "  warnings.warn(\"Maximum Likelihood optimization failed to \"\n"
     ]
    }
   ],
   "source": [
    "prodit_model = sm.Probit(y,x).fit()\n",
    "print(prodit_model.summary())"
   ]
  },
  {
   "cell_type": "code",
   "execution_count": null,
   "id": "488767e1",
   "metadata": {},
   "outputs": [],
   "source": [
    "religion_mapping = {1:'Hinduism', 2:'Islam', 3:'Christianity',5:'Jainism',9:'Others'}\n",
    "bhr['Religion'] = bhr['Religion'].replace(religion_mapping)\n",
    "print(bhr['Religion'].value_counts())"
   ]
  },
  {
   "cell_type": "code",
   "execution_count": null,
   "id": "2a0ed3b9",
   "metadata": {},
   "outputs": [],
   "source": [
    "nv_by_religion = bhr.groupby('Religion')['emftt_q'].count()\n",
    "max_nv_religion = nv_by_religion.idxmax()\n",
    "\n",
    "print(\"The religion with the highest non-veg consumption is:\", max_nv_religion)"
   ]
  },
  {
   "cell_type": "markdown",
   "id": "196c28fe",
   "metadata": {},
   "source": [
    "### Tobit Regression"
   ]
  },
  {
   "cell_type": "code",
   "execution_count": null,
   "id": "2a9bfe8f",
   "metadata": {},
   "outputs": [],
   "source": [
    "y = nss['foodtotal_v']  \n",
    "X = nss[['sauce_jam_v', 'Othrprocessed_v', 'Beveragestotal_v', 'fv_tot']]  "
   ]
  },
  {
   "cell_type": "code",
   "execution_count": null,
   "id": "1f9b8bc0",
   "metadata": {},
   "outputs": [],
   "source": [
    "class TobitModel:\n",
    "    def __init__(self, endog, exog, lower=None, upper=None):\n",
    "        self.endog = endog\n",
    "        self.exog = exog\n",
    "        self.lower = lower\n",
    "        self.upper = upper\n",
    "\n",
    "    def loglik(self, params):\n",
    "        beta = params[:-1]\n",
    "        sigma = params[-1]\n",
    "        mu = np.dot(self.exog, beta)\n",
    "        \n",
    "        # Ensure sigma is positive\n",
    "        sigma = np.abs(sigma) + 1e-10\n",
    "        \n",
    "        # Calculate the log-likelihood\n",
    "        llf = np.zeros_like(self.endog, dtype=float)\n",
    "\n",
    "        # Censored from below\n",
    "        if self.lower is not None:\n",
    "            llf = np.where(\n",
    "                self.endog == self.lower,\n",
    "                np.log(np.clip(norm.cdf((self.lower - mu) / sigma), 1e-10, 1)),\n",
    "                llf\n",
    "            )\n",
    "\n",
    "        # Censored from above\n",
    "        if self.upper is not None:\n",
    "            llf = np.where(\n",
    "                self.endog == self.upper,\n",
    "                np.log(np.clip(1 - norm.cdf((self.upper - mu) / sigma), 1e-10, 1)),\n",
    "                llf\n",
    "            )\n",
    "\n",
    "        # Uncensored\n",
    "        uncensored = (self.endog > self.lower) & (self.endog < self.upper)\n",
    "        llf[uncensored] = -0.5 * np.log(2 * np.pi) - np.log(sigma) - (self.endog[uncensored] - mu[uncensored]) ** 2 / (2 * sigma ** 2)\n",
    "\n",
    "        return -np.sum(llf)\n",
    "\n",
    "    def fit(self):\n",
    "        start_params = np.append(np.zeros(self.exog.shape[1]), 1)\n",
    "        res = minimize(self.loglik, start_params, method='L-BFGS-B')\n",
    "        return res"
   ]
  },
  {
   "cell_type": "code",
   "execution_count": null,
   "id": "825ded32",
   "metadata": {},
   "outputs": [],
   "source": [
    "y_tobit = np.clip(y, 0, 1)\n",
    "X_tobit = sm.add_constant(X)\n",
    "\n",
    "model = TobitModel(y_tobit, X_tobit, lower=0, upper=1)\n",
    "results = model.fit()"
   ]
  },
  {
   "cell_type": "code",
   "execution_count": null,
   "id": "ae28a8b7",
   "metadata": {},
   "outputs": [],
   "source": [
    "print(\"Tobit Model Results:\")\n",
    "print(results)"
   ]
  }
 ],
 "metadata": {
  "kernelspec": {
   "display_name": "Python 3 (ipykernel)",
   "language": "python",
   "name": "python3"
  },
  "language_info": {
   "codemirror_mode": {
    "name": "ipython",
    "version": 3
   },
   "file_extension": ".py",
   "mimetype": "text/x-python",
   "name": "python",
   "nbconvert_exporter": "python",
   "pygments_lexer": "ipython3",
   "version": "3.11.5"
  }
 },
 "nbformat": 4,
 "nbformat_minor": 5
}
